{
 "cells": [
  {
   "cell_type": "markdown",
   "metadata": {
    "id": "5WoRzg_Bld1U"
   },
   "source": [
    "# Import relevant libraries and data"
   ]
  },
  {
   "cell_type": "code",
   "execution_count": 1,
   "metadata": {
    "id": "rPkqQqQrTdON"
   },
   "outputs": [],
   "source": [
    "import numpy as np\n",
    "import pandas as pd\n",
    "import matplotlib.pyplot as plt\n",
    "import seaborn as sns\n",
    "sns.set()"
   ]
  },
  {
   "cell_type": "code",
   "execution_count": 2,
   "metadata": {
    "colab": {
     "base_uri": "https://localhost:8080/",
     "height": 206
    },
    "id": "KkfA5RrYlxFX",
    "outputId": "62773223-3c38-4354-b404-b9dbec802a15"
   },
   "outputs": [
    {
     "data": {
      "text/html": [
       "<div>\n",
       "<style scoped>\n",
       "    .dataframe tbody tr th:only-of-type {\n",
       "        vertical-align: middle;\n",
       "    }\n",
       "\n",
       "    .dataframe tbody tr th {\n",
       "        vertical-align: top;\n",
       "    }\n",
       "\n",
       "    .dataframe thead th {\n",
       "        text-align: right;\n",
       "    }\n",
       "</style>\n",
       "<table border=\"1\" class=\"dataframe\">\n",
       "  <thead>\n",
       "    <tr style=\"text-align: right;\">\n",
       "      <th></th>\n",
       "      <th>Date</th>\n",
       "      <th>Symbol</th>\n",
       "      <th>Series</th>\n",
       "      <th>Prev Close</th>\n",
       "      <th>Open</th>\n",
       "      <th>High</th>\n",
       "      <th>Low</th>\n",
       "      <th>Last</th>\n",
       "      <th>Close</th>\n",
       "      <th>VWAP</th>\n",
       "      <th>Volume</th>\n",
       "      <th>Turnover</th>\n",
       "      <th>Trades</th>\n",
       "      <th>Deliverable Volume</th>\n",
       "      <th>%Deliverble</th>\n",
       "    </tr>\n",
       "  </thead>\n",
       "  <tbody>\n",
       "    <tr>\n",
       "      <th>0</th>\n",
       "      <td>2000-01-03</td>\n",
       "      <td>UTIBANK</td>\n",
       "      <td>EQ</td>\n",
       "      <td>24.70</td>\n",
       "      <td>26.7</td>\n",
       "      <td>26.70</td>\n",
       "      <td>26.70</td>\n",
       "      <td>26.7</td>\n",
       "      <td>26.70</td>\n",
       "      <td>26.70</td>\n",
       "      <td>112100</td>\n",
       "      <td>2.993070e+11</td>\n",
       "      <td>NaN</td>\n",
       "      <td>NaN</td>\n",
       "      <td>NaN</td>\n",
       "    </tr>\n",
       "    <tr>\n",
       "      <th>1</th>\n",
       "      <td>2000-01-04</td>\n",
       "      <td>UTIBANK</td>\n",
       "      <td>EQ</td>\n",
       "      <td>26.70</td>\n",
       "      <td>27.0</td>\n",
       "      <td>28.70</td>\n",
       "      <td>26.50</td>\n",
       "      <td>27.0</td>\n",
       "      <td>26.85</td>\n",
       "      <td>27.24</td>\n",
       "      <td>234500</td>\n",
       "      <td>6.387275e+11</td>\n",
       "      <td>NaN</td>\n",
       "      <td>NaN</td>\n",
       "      <td>NaN</td>\n",
       "    </tr>\n",
       "    <tr>\n",
       "      <th>2</th>\n",
       "      <td>2000-01-05</td>\n",
       "      <td>UTIBANK</td>\n",
       "      <td>EQ</td>\n",
       "      <td>26.85</td>\n",
       "      <td>26.0</td>\n",
       "      <td>27.75</td>\n",
       "      <td>25.50</td>\n",
       "      <td>26.4</td>\n",
       "      <td>26.30</td>\n",
       "      <td>26.24</td>\n",
       "      <td>170100</td>\n",
       "      <td>4.462980e+11</td>\n",
       "      <td>NaN</td>\n",
       "      <td>NaN</td>\n",
       "      <td>NaN</td>\n",
       "    </tr>\n",
       "    <tr>\n",
       "      <th>3</th>\n",
       "      <td>2000-01-06</td>\n",
       "      <td>UTIBANK</td>\n",
       "      <td>EQ</td>\n",
       "      <td>26.30</td>\n",
       "      <td>25.8</td>\n",
       "      <td>27.00</td>\n",
       "      <td>25.80</td>\n",
       "      <td>25.9</td>\n",
       "      <td>25.95</td>\n",
       "      <td>26.27</td>\n",
       "      <td>102100</td>\n",
       "      <td>2.681730e+11</td>\n",
       "      <td>NaN</td>\n",
       "      <td>NaN</td>\n",
       "      <td>NaN</td>\n",
       "    </tr>\n",
       "    <tr>\n",
       "      <th>4</th>\n",
       "      <td>2000-01-07</td>\n",
       "      <td>UTIBANK</td>\n",
       "      <td>EQ</td>\n",
       "      <td>25.95</td>\n",
       "      <td>25.0</td>\n",
       "      <td>26.00</td>\n",
       "      <td>24.25</td>\n",
       "      <td>25.0</td>\n",
       "      <td>24.80</td>\n",
       "      <td>25.04</td>\n",
       "      <td>62600</td>\n",
       "      <td>1.567220e+11</td>\n",
       "      <td>NaN</td>\n",
       "      <td>NaN</td>\n",
       "      <td>NaN</td>\n",
       "    </tr>\n",
       "  </tbody>\n",
       "</table>\n",
       "</div>"
      ],
      "text/plain": [
       "         Date   Symbol Series  Prev Close  Open   High    Low  Last  Close  \\\n",
       "0  2000-01-03  UTIBANK     EQ       24.70  26.7  26.70  26.70  26.7  26.70   \n",
       "1  2000-01-04  UTIBANK     EQ       26.70  27.0  28.70  26.50  27.0  26.85   \n",
       "2  2000-01-05  UTIBANK     EQ       26.85  26.0  27.75  25.50  26.4  26.30   \n",
       "3  2000-01-06  UTIBANK     EQ       26.30  25.8  27.00  25.80  25.9  25.95   \n",
       "4  2000-01-07  UTIBANK     EQ       25.95  25.0  26.00  24.25  25.0  24.80   \n",
       "\n",
       "    VWAP  Volume      Turnover  Trades  Deliverable Volume  %Deliverble  \n",
       "0  26.70  112100  2.993070e+11     NaN                 NaN          NaN  \n",
       "1  27.24  234500  6.387275e+11     NaN                 NaN          NaN  \n",
       "2  26.24  170100  4.462980e+11     NaN                 NaN          NaN  \n",
       "3  26.27  102100  2.681730e+11     NaN                 NaN          NaN  \n",
       "4  25.04   62600  1.567220e+11     NaN                 NaN          NaN  "
      ]
     },
     "execution_count": 2,
     "metadata": {},
     "output_type": "execute_result"
    }
   ],
   "source": [
    "raw_data = pd.read_csv('C:/Users/PRATEEK/Downloads/Data Science Practice files/Models/Stock Trend App/AXISBANK.csv')\n",
    "raw_data.head()"
   ]
  },
  {
   "cell_type": "code",
   "execution_count": 3,
   "metadata": {
    "id": "2CB3trLYmG76"
   },
   "outputs": [],
   "source": [
    "df = raw_data.copy()"
   ]
  },
  {
   "cell_type": "code",
   "execution_count": 4,
   "metadata": {
    "colab": {
     "base_uri": "https://localhost:8080/"
    },
    "id": "SPJq7zV-nndK",
    "outputId": "cf44fd7e-9095-4edc-f9f5-90b0b7fe09c0"
   },
   "outputs": [
    {
     "data": {
      "text/plain": [
       "Index(['Date', 'Symbol', 'Series', 'Prev Close', 'Open', 'High', 'Low', 'Last',\n",
       "       'Close', 'VWAP', 'Volume', 'Turnover', 'Trades', 'Deliverable Volume',\n",
       "       '%Deliverble'],\n",
       "      dtype='object')"
      ]
     },
     "execution_count": 4,
     "metadata": {},
     "output_type": "execute_result"
    }
   ],
   "source": [
    "df.columns"
   ]
  },
  {
   "cell_type": "code",
   "execution_count": 5,
   "metadata": {
    "id": "WcfJWgvQnuWZ"
   },
   "outputs": [],
   "source": [
    "to_drop = ['Date', 'Symbol', 'Series', 'Prev Close', 'Last', 'VWAP' , 'Turnover', 'Trades', 'Deliverable Volume',\n",
    "          '%Deliverble']"
   ]
  },
  {
   "cell_type": "code",
   "execution_count": 6,
   "metadata": {
    "colab": {
     "base_uri": "https://localhost:8080/",
     "height": 206
    },
    "id": "2ZzO8o06mp6M",
    "outputId": "e9e58e7e-2f2e-46c4-b3eb-644899b29574"
   },
   "outputs": [
    {
     "data": {
      "text/html": [
       "<div>\n",
       "<style scoped>\n",
       "    .dataframe tbody tr th:only-of-type {\n",
       "        vertical-align: middle;\n",
       "    }\n",
       "\n",
       "    .dataframe tbody tr th {\n",
       "        vertical-align: top;\n",
       "    }\n",
       "\n",
       "    .dataframe thead th {\n",
       "        text-align: right;\n",
       "    }\n",
       "</style>\n",
       "<table border=\"1\" class=\"dataframe\">\n",
       "  <thead>\n",
       "    <tr style=\"text-align: right;\">\n",
       "      <th></th>\n",
       "      <th>Open</th>\n",
       "      <th>High</th>\n",
       "      <th>Low</th>\n",
       "      <th>Close</th>\n",
       "      <th>Volume</th>\n",
       "    </tr>\n",
       "  </thead>\n",
       "  <tbody>\n",
       "    <tr>\n",
       "      <th>0</th>\n",
       "      <td>26.7</td>\n",
       "      <td>26.70</td>\n",
       "      <td>26.70</td>\n",
       "      <td>26.70</td>\n",
       "      <td>112100</td>\n",
       "    </tr>\n",
       "    <tr>\n",
       "      <th>1</th>\n",
       "      <td>27.0</td>\n",
       "      <td>28.70</td>\n",
       "      <td>26.50</td>\n",
       "      <td>26.85</td>\n",
       "      <td>234500</td>\n",
       "    </tr>\n",
       "    <tr>\n",
       "      <th>2</th>\n",
       "      <td>26.0</td>\n",
       "      <td>27.75</td>\n",
       "      <td>25.50</td>\n",
       "      <td>26.30</td>\n",
       "      <td>170100</td>\n",
       "    </tr>\n",
       "    <tr>\n",
       "      <th>3</th>\n",
       "      <td>25.8</td>\n",
       "      <td>27.00</td>\n",
       "      <td>25.80</td>\n",
       "      <td>25.95</td>\n",
       "      <td>102100</td>\n",
       "    </tr>\n",
       "    <tr>\n",
       "      <th>4</th>\n",
       "      <td>25.0</td>\n",
       "      <td>26.00</td>\n",
       "      <td>24.25</td>\n",
       "      <td>24.80</td>\n",
       "      <td>62600</td>\n",
       "    </tr>\n",
       "  </tbody>\n",
       "</table>\n",
       "</div>"
      ],
      "text/plain": [
       "   Open   High    Low  Close  Volume\n",
       "0  26.7  26.70  26.70  26.70  112100\n",
       "1  27.0  28.70  26.50  26.85  234500\n",
       "2  26.0  27.75  25.50  26.30  170100\n",
       "3  25.8  27.00  25.80  25.95  102100\n",
       "4  25.0  26.00  24.25  24.80   62600"
      ]
     },
     "execution_count": 6,
     "metadata": {},
     "output_type": "execute_result"
    }
   ],
   "source": [
    "df = df.drop(to_drop, axis = 1)\n",
    "df.head()"
   ]
  },
  {
   "cell_type": "code",
   "execution_count": 7,
   "metadata": {
    "colab": {
     "base_uri": "https://localhost:8080/"
    },
    "id": "wRL9iccKopHq",
    "outputId": "a0379239-cec0-415a-df87-626269012032"
   },
   "outputs": [
    {
     "name": "stdout",
     "output_type": "stream",
     "text": [
      "<class 'pandas.core.frame.DataFrame'>\n",
      "RangeIndex: 5306 entries, 0 to 5305\n",
      "Data columns (total 5 columns):\n",
      " #   Column  Non-Null Count  Dtype  \n",
      "---  ------  --------------  -----  \n",
      " 0   Open    5306 non-null   float64\n",
      " 1   High    5306 non-null   float64\n",
      " 2   Low     5306 non-null   float64\n",
      " 3   Close   5306 non-null   float64\n",
      " 4   Volume  5306 non-null   int64  \n",
      "dtypes: float64(4), int64(1)\n",
      "memory usage: 207.4 KB\n"
     ]
    }
   ],
   "source": [
    "df.info()"
   ]
  },
  {
   "cell_type": "code",
   "execution_count": 8,
   "metadata": {
    "colab": {
     "base_uri": "https://localhost:8080/"
    },
    "id": "DWvbd6yPpD9o",
    "outputId": "02dbcd89-b910-4bf8-86b9-d2d655393305"
   },
   "outputs": [
    {
     "data": {
      "text/plain": [
       "Open      False\n",
       "High      False\n",
       "Low       False\n",
       "Close     False\n",
       "Volume    False\n",
       "dtype: bool"
      ]
     },
     "execution_count": 8,
     "metadata": {},
     "output_type": "execute_result"
    }
   ],
   "source": [
    "df.isna().any()"
   ]
  },
  {
   "cell_type": "code",
   "execution_count": 9,
   "metadata": {
    "colab": {
     "base_uri": "https://localhost:8080/",
     "height": 395
    },
    "id": "oaDFirNQpMdL",
    "outputId": "651c4234-bf29-43d5-9f9b-8b36bedb0647"
   },
   "outputs": [
    {
     "data": {
      "text/plain": [
       "<matplotlib.axes._subplots.AxesSubplot at 0x16caa3f37f0>"
      ]
     },
     "execution_count": 9,
     "metadata": {},
     "output_type": "execute_result"
    },
    {
     "data": {
      "image/png": "[encoded data removed]",
      "text/plain": [
       "<Figure size 1152x432 with 1 Axes>"
      ]
     },
     "metadata": {
      "needs_background": "light"
     },
     "output_type": "display_data"
    }
   ],
   "source": [
    "df['Open'].plot(figsize = (16,6))"
   ]
  },
  {
   "cell_type": "code",
   "execution_count": 10,
   "metadata": {
    "colab": {
     "base_uri": "https://localhost:8080/"
    },
    "id": "8_ZfE7ZwpzY8",
    "outputId": "37a1cb6a-e860-43e0-d93b-a84d54e38631"
   },
   "outputs": [
    {
     "data": {
      "text/plain": [
       "0        26.7\n",
       "1        27.0\n",
       "2        26.0\n",
       "3        25.8\n",
       "4        25.0\n",
       "        ...  \n",
       "5301    694.0\n",
       "5302    691.1\n",
       "5303    708.0\n",
       "5304    712.0\n",
       "5305    705.0\n",
       "Name: Open, Length: 5306, dtype: float64"
      ]
     },
     "execution_count": 10,
     "metadata": {},
     "output_type": "execute_result"
    }
   ],
   "source": [
    "df.Open"
   ]
  },
  {
   "cell_type": "markdown",
   "metadata": {
    "id": "3a4_GXAzsJJ5"
   },
   "source": [
    "#### Moving average of first 100 days, Plotting against original data"
   ]
  },
  {
   "cell_type": "code",
   "execution_count": 11,
   "metadata": {
    "colab": {
     "base_uri": "https://localhost:8080/",
     "height": 520
    },
    "id": "8OOKR_GGqkTe",
    "outputId": "9d7f15f9-1db3-411d-9556-393587881f59"
   },
   "outputs": [
    {
     "data": {
      "text/html": [
       "<div>\n",
       "<style scoped>\n",
       "    .dataframe tbody tr th:only-of-type {\n",
       "        vertical-align: middle;\n",
       "    }\n",
       "\n",
       "    .dataframe tbody tr th {\n",
       "        vertical-align: top;\n",
       "    }\n",
       "\n",
       "    .dataframe thead th {\n",
       "        text-align: right;\n",
       "    }\n",
       "</style>\n",
       "<table border=\"1\" class=\"dataframe\">\n",
       "  <thead>\n",
       "    <tr style=\"text-align: right;\">\n",
       "      <th></th>\n",
       "      <th>Open</th>\n",
       "      <th>High</th>\n",
       "      <th>Low</th>\n",
       "      <th>Close</th>\n",
       "      <th>Volume</th>\n",
       "    </tr>\n",
       "  </thead>\n",
       "  <tbody>\n",
       "    <tr>\n",
       "      <th>0</th>\n",
       "      <td>NaN</td>\n",
       "      <td>NaN</td>\n",
       "      <td>NaN</td>\n",
       "      <td>NaN</td>\n",
       "      <td>NaN</td>\n",
       "    </tr>\n",
       "    <tr>\n",
       "      <th>1</th>\n",
       "      <td>NaN</td>\n",
       "      <td>NaN</td>\n",
       "      <td>NaN</td>\n",
       "      <td>NaN</td>\n",
       "      <td>NaN</td>\n",
       "    </tr>\n",
       "    <tr>\n",
       "      <th>2</th>\n",
       "      <td>NaN</td>\n",
       "      <td>NaN</td>\n",
       "      <td>NaN</td>\n",
       "      <td>NaN</td>\n",
       "      <td>NaN</td>\n",
       "    </tr>\n",
       "    <tr>\n",
       "      <th>3</th>\n",
       "      <td>NaN</td>\n",
       "      <td>NaN</td>\n",
       "      <td>NaN</td>\n",
       "      <td>NaN</td>\n",
       "      <td>NaN</td>\n",
       "    </tr>\n",
       "    <tr>\n",
       "      <th>4</th>\n",
       "      <td>NaN</td>\n",
       "      <td>NaN</td>\n",
       "      <td>NaN</td>\n",
       "      <td>NaN</td>\n",
       "      <td>NaN</td>\n",
       "    </tr>\n",
       "    <tr>\n",
       "      <th>5</th>\n",
       "      <td>NaN</td>\n",
       "      <td>NaN</td>\n",
       "      <td>NaN</td>\n",
       "      <td>NaN</td>\n",
       "      <td>NaN</td>\n",
       "    </tr>\n",
       "    <tr>\n",
       "      <th>6</th>\n",
       "      <td>NaN</td>\n",
       "      <td>NaN</td>\n",
       "      <td>NaN</td>\n",
       "      <td>NaN</td>\n",
       "      <td>NaN</td>\n",
       "    </tr>\n",
       "    <tr>\n",
       "      <th>7</th>\n",
       "      <td>NaN</td>\n",
       "      <td>NaN</td>\n",
       "      <td>NaN</td>\n",
       "      <td>NaN</td>\n",
       "      <td>NaN</td>\n",
       "    </tr>\n",
       "    <tr>\n",
       "      <th>8</th>\n",
       "      <td>NaN</td>\n",
       "      <td>NaN</td>\n",
       "      <td>NaN</td>\n",
       "      <td>NaN</td>\n",
       "      <td>NaN</td>\n",
       "    </tr>\n",
       "    <tr>\n",
       "      <th>9</th>\n",
       "      <td>NaN</td>\n",
       "      <td>NaN</td>\n",
       "      <td>NaN</td>\n",
       "      <td>NaN</td>\n",
       "      <td>NaN</td>\n",
       "    </tr>\n",
       "    <tr>\n",
       "      <th>10</th>\n",
       "      <td>NaN</td>\n",
       "      <td>NaN</td>\n",
       "      <td>NaN</td>\n",
       "      <td>NaN</td>\n",
       "      <td>NaN</td>\n",
       "    </tr>\n",
       "    <tr>\n",
       "      <th>11</th>\n",
       "      <td>NaN</td>\n",
       "      <td>NaN</td>\n",
       "      <td>NaN</td>\n",
       "      <td>NaN</td>\n",
       "      <td>NaN</td>\n",
       "    </tr>\n",
       "    <tr>\n",
       "      <th>12</th>\n",
       "      <td>NaN</td>\n",
       "      <td>NaN</td>\n",
       "      <td>NaN</td>\n",
       "      <td>NaN</td>\n",
       "      <td>NaN</td>\n",
       "    </tr>\n",
       "    <tr>\n",
       "      <th>13</th>\n",
       "      <td>NaN</td>\n",
       "      <td>NaN</td>\n",
       "      <td>NaN</td>\n",
       "      <td>NaN</td>\n",
       "      <td>NaN</td>\n",
       "    </tr>\n",
       "    <tr>\n",
       "      <th>14</th>\n",
       "      <td>NaN</td>\n",
       "      <td>NaN</td>\n",
       "      <td>NaN</td>\n",
       "      <td>NaN</td>\n",
       "      <td>NaN</td>\n",
       "    </tr>\n",
       "  </tbody>\n",
       "</table>\n",
       "</div>"
      ],
      "text/plain": [
       "    Open  High  Low  Close  Volume\n",
       "0    NaN   NaN  NaN    NaN     NaN\n",
       "1    NaN   NaN  NaN    NaN     NaN\n",
       "2    NaN   NaN  NaN    NaN     NaN\n",
       "3    NaN   NaN  NaN    NaN     NaN\n",
       "4    NaN   NaN  NaN    NaN     NaN\n",
       "5    NaN   NaN  NaN    NaN     NaN\n",
       "6    NaN   NaN  NaN    NaN     NaN\n",
       "7    NaN   NaN  NaN    NaN     NaN\n",
       "8    NaN   NaN  NaN    NaN     NaN\n",
       "9    NaN   NaN  NaN    NaN     NaN\n",
       "10   NaN   NaN  NaN    NaN     NaN\n",
       "11   NaN   NaN  NaN    NaN     NaN\n",
       "12   NaN   NaN  NaN    NaN     NaN\n",
       "13   NaN   NaN  NaN    NaN     NaN\n",
       "14   NaN   NaN  NaN    NaN     NaN"
      ]
     },
     "execution_count": 11,
     "metadata": {},
     "output_type": "execute_result"
    }
   ],
   "source": [
    "ma = df.rolling(100).mean()\n",
    "ma.head(15)"
   ]
  },
  {
   "cell_type": "markdown",
   "metadata": {
    "id": "k0MUA1bhrHoJ"
   },
   "source": [
    "Plot the rolling mean and the actual 'Open' feature."
   ]
  },
  {
   "cell_type": "code",
   "execution_count": 12,
   "metadata": {
    "colab": {
     "base_uri": "https://localhost:8080/",
     "height": 478
    },
    "id": "k59emj4Yq9S1",
    "outputId": "5cd80cf4-cd01-4fcf-d538-fced2d3278af"
   },
   "outputs": [
    {
     "data": {
      "text/plain": [
       "[<matplotlib.lines.Line2D at 0x16cac71cef0>,\n",
       " <matplotlib.lines.Line2D at 0x16cac8ddf98>,\n",
       " <matplotlib.lines.Line2D at 0x16cac8ef278>,\n",
       " <matplotlib.lines.Line2D at 0x16cac8e6d68>,\n",
       " <matplotlib.lines.Line2D at 0x16cac8e6b38>]"
      ]
     },
     "execution_count": 12,
     "metadata": {},
     "output_type": "execute_result"
    },
    {
     "data": {
      "image/png": "[encoded data removed]",
      "text/plain": [
       "<Figure size 1152x432 with 1 Axes>"
      ]
     },
     "metadata": {
      "needs_background": "light"
     },
     "output_type": "display_data"
    }
   ],
   "source": [
    "df['Open'].plot(figsize = (16,6))\n",
    "plt.plot(ma, 'r')"
   ]
  },
  {
   "cell_type": "markdown",
   "metadata": {
    "id": "NtxTj-x0sjhS"
   },
   "source": [
    "Moving Average of first 200 plotted against original value"
   ]
  },
  {
   "cell_type": "code",
   "execution_count": 13,
   "metadata": {
    "id": "Pyv6iE08r1-U"
   },
   "outputs": [],
   "source": [
    "ma200 = df.rolling(200).mean()"
   ]
  },
  {
   "cell_type": "code",
   "execution_count": 14,
   "metadata": {
    "colab": {
     "base_uri": "https://localhost:8080/",
     "height": 586
    },
    "id": "SH7GPoTZsvsf",
    "outputId": "c9f8dd7d-6345-48bf-cf57-8b084ad0e0fb"
   },
   "outputs": [
    {
     "data": {
      "text/plain": [
       "[<matplotlib.lines.Line2D at 0x16cac8f36d8>,\n",
       " <matplotlib.lines.Line2D at 0x16cac8f3e48>,\n",
       " <matplotlib.lines.Line2D at 0x16cac8f3fd0>,\n",
       " <matplotlib.lines.Line2D at 0x16cac8fc198>,\n",
       " <matplotlib.lines.Line2D at 0x16cac8fc320>]"
      ]
     },
     "execution_count": 14,
     "metadata": {},
     "output_type": "execute_result"
    },
    {
     "data": {
      "image/png": "[encoded data removed]",
      "text/plain": [
       "<Figure size 1152x576 with 1 Axes>"
      ]
     },
     "metadata": {
      "needs_background": "light"
     },
     "output_type": "display_data"
    }
   ],
   "source": [
    "df['Open'].plot(figsize = (16,8))\n",
    "plt.plot(ma, 'r')\n",
    "plt.plot(ma200, 'g')"
   ]
  },
  {
   "cell_type": "code",
   "execution_count": 15,
   "metadata": {
    "colab": {
     "base_uri": "https://localhost:8080/",
     "height": 395
    },
    "id": "8NOa3Hcts0Uj",
    "outputId": "049761e0-cb6c-4f77-cf80-42c6c45554cb"
   },
   "outputs": [
    {
     "data": {
      "text/plain": [
       "<matplotlib.axes._subplots.AxesSubplot at 0x16cac91cd30>"
      ]
     },
     "execution_count": 15,
     "metadata": {},
     "output_type": "execute_result"
    },
    {
     "data": {
      "image/png": "[encoded data removed]",
      "text/plain": [
       "<Figure size 1152x432 with 1 Axes>"
      ]
     },
     "metadata": {
      "needs_background": "light"
     },
     "output_type": "display_data"
    }
   ],
   "source": [
    "df['Open'].plot(figsize = (16,6))\n",
    "df.rolling(window = 100).mean()['Close'].plot()"
   ]
  },
  {
   "cell_type": "markdown",
   "metadata": {
    "id": "Y-1jLVJZtqwA"
   },
   "source": [
    "# Data Preprocessing"
   ]
  },
  {
   "cell_type": "markdown",
   "metadata": {
    "id": "-PIbUGwmulqB"
   },
   "source": [
    "### Spliting data into Train and Test"
   ]
  },
  {
   "cell_type": "code",
   "execution_count": 16,
   "metadata": {
    "colab": {
     "base_uri": "https://localhost:8080/"
    },
    "id": "qYw6DWu9uc6z",
    "outputId": "8471b199-e4c2-4744-d2ad-aeec1fcf6114"
   },
   "outputs": [
    {
     "data": {
      "text/plain": [
       "(5306, 5)"
      ]
     },
     "execution_count": 16,
     "metadata": {},
     "output_type": "execute_result"
    }
   ],
   "source": [
    "df.shape"
   ]
  },
  {
   "cell_type": "code",
   "execution_count": 17,
   "metadata": {
    "colab": {
     "base_uri": "https://localhost:8080/"
    },
    "id": "Lz9obgiNuuqB",
    "outputId": "ac37b9fc-d9b1-40f7-fa91-28c9ee8f53df"
   },
   "outputs": [
    {
     "data": {
      "text/plain": [
       "['Open', 'High', 'Low', 'Close', 'Volume']"
      ]
     },
     "execution_count": 17,
     "metadata": {},
     "output_type": "execute_result"
    }
   ],
   "source": [
    "col = list(df)\n",
    "col"
   ]
  },
  {
   "cell_type": "code",
   "execution_count": 18,
   "metadata": {
    "id": "Xv5FpOuC-5N4"
   },
   "outputs": [],
   "source": [
    "df['Volume'] = df['Volume'].astype(float)"
   ]
  },
  {
   "cell_type": "code",
   "execution_count": 19,
   "metadata": {
    "colab": {
     "base_uri": "https://localhost:8080/"
    },
    "id": "IjEAtj0pvYeW",
    "outputId": "1e534d28-f89e-498e-e44f-de62939b85b3"
   },
   "outputs": [
    {
     "name": "stdout",
     "output_type": "stream",
     "text": [
      "<class 'pandas.core.frame.DataFrame'>\n",
      "RangeIndex: 5306 entries, 0 to 5305\n",
      "Data columns (total 5 columns):\n",
      " #   Column  Non-Null Count  Dtype  \n",
      "---  ------  --------------  -----  \n",
      " 0   Open    5306 non-null   float64\n",
      " 1   High    5306 non-null   float64\n",
      " 2   Low     5306 non-null   float64\n",
      " 3   Close   5306 non-null   float64\n",
      " 4   Volume  5306 non-null   float64\n",
      "dtypes: float64(5)\n",
      "memory usage: 207.4 KB\n"
     ]
    }
   ],
   "source": [
    "df.info()"
   ]
  },
  {
   "cell_type": "markdown",
   "metadata": {
    "id": "40e5SwR0BkF7"
   },
   "source": [
    "#### CHECKPOINT 1"
   ]
  },
  {
   "cell_type": "markdown",
   "metadata": {
    "id": "RanE2rmDAI75"
   },
   "source": [
    "### assign training data"
   ]
  },
  {
   "cell_type": "code",
   "execution_count": 20,
   "metadata": {
    "id": "96wVCcdc_spL"
   },
   "outputs": [],
   "source": [
    "df_for_model = df.copy()"
   ]
  },
  {
   "cell_type": "code",
   "execution_count": 21,
   "metadata": {
    "id": "SYkLQU8xAPvf"
   },
   "outputs": [],
   "source": [
    "#scaling the data ffor the model\n",
    "from sklearn.preprocessing import StandardScaler\n",
    "scaler = StandardScaler()\n",
    "scaler = scaler.fit(df_for_model)"
   ]
  },
  {
   "cell_type": "code",
   "execution_count": 22,
   "metadata": {
    "id": "ukvQzckXEgb4"
   },
   "outputs": [],
   "source": [
    "scaled_df_for_training = scaler.transform(df_for_model)"
   ]
  },
  {
   "cell_type": "code",
   "execution_count": 23,
   "metadata": {
    "id": "ztwgCG6QCfXf"
   },
   "outputs": [],
   "source": [
    "x_train = []\n",
    "y_train = []\n",
    "\n",
    "n_future = 1  # no. of days to predict\n",
    "n_past = 14   # no of days we want the prediction to be based on\n",
    "              # based on above lines, we'll train the model for every 14 days and predict for the 15th day.\n",
    "\n",
    "for i in range(n_past, len(scaled_df_for_training) - n_future + 1):\n",
    "  x_train.append(scaled_df_for_training[i - n_past: i, 0: df_for_model.shape[0]])\n",
    "  y_train.append(scaled_df_for_training[i + n_future - 1: i + n_future, 0])"
   ]
  },
  {
   "cell_type": "markdown",
   "metadata": {
    "id": "-2BuapEuGEoq"
   },
   "source": [
    " #### *convert the x_train and y_train in array(the're in list form)*"
   ]
  },
  {
   "cell_type": "code",
   "execution_count": 24,
   "metadata": {
    "id": "YxjUHs7zGDaa"
   },
   "outputs": [],
   "source": [
    "x_train, y_train = np.array(x_train), np.array(y_train)"
   ]
  },
  {
   "cell_type": "code",
   "execution_count": 25,
   "metadata": {
    "colab": {
     "base_uri": "https://localhost:8080/"
    },
    "id": "YN8-H7iLGZE_",
    "outputId": "36e83c75-ab4c-4c1a-b531-2497c7960d93"
   },
   "outputs": [
    {
     "data": {
      "text/plain": [
       "(numpy.ndarray, numpy.ndarray)"
      ]
     },
     "execution_count": 25,
     "metadata": {},
     "output_type": "execute_result"
    }
   ],
   "source": [
    "type(x_train), type(y_train)"
   ]
  },
  {
   "cell_type": "code",
   "execution_count": 26,
   "metadata": {
    "colab": {
     "base_uri": "https://localhost:8080/"
    },
    "id": "BspBtba5GjVy",
    "outputId": "e484b84a-5cb0-4b11-8bd9-ea6c1dfda5c7"
   },
   "outputs": [
    {
     "data": {
      "text/plain": [
       "((5292, 14, 5), (5292, 1))"
      ]
     },
     "execution_count": 26,
     "metadata": {},
     "output_type": "execute_result"
    }
   ],
   "source": [
    "x_train.shape, y_train.shape"
   ]
  },
  {
   "cell_type": "markdown",
   "metadata": {
    "id": "WkOTr290H0ih"
   },
   "source": [
    "# Create Model"
   ]
  },
  {
   "cell_type": "code",
   "execution_count": 28,
   "metadata": {
    "id": "530ZttgPG706"
   },
   "outputs": [
    {
     "ename": "ModuleNotFoundError",
     "evalue": "No module named 'tf'",
     "output_type": "error",
     "traceback": [
      "\u001b[1;31m---------------------------------------------------------------------------\u001b[0m",
      "\u001b[1;31mModuleNotFoundError\u001b[0m                       Traceback (most recent call last)",
      "\u001b[1;32m<ipython-input-28-b7e7260eb121>\u001b[0m in \u001b[0;36m<module>\u001b[1;34m()\u001b[0m\n\u001b[0;32m      1\u001b[0m \u001b[1;31m# import relevant model libraries\u001b[0m\u001b[1;33m\u001b[0m\u001b[1;33m\u001b[0m\u001b[0m\n\u001b[0;32m      2\u001b[0m \u001b[1;33m\u001b[0m\u001b[0m\n\u001b[1;32m----> 3\u001b[1;33m \u001b[1;32mfrom\u001b[0m \u001b[0mtf\u001b[0m\u001b[1;33m.\u001b[0m\u001b[0mkeras\u001b[0m\u001b[1;33m.\u001b[0m\u001b[0mlayers\u001b[0m \u001b[1;32mimport\u001b[0m \u001b[0mDense\u001b[0m\u001b[1;33m,\u001b[0m \u001b[0mDropout\u001b[0m\u001b[1;33m,\u001b[0m \u001b[0mLSTM\u001b[0m\u001b[1;33m\u001b[0m\u001b[0m\n\u001b[0m\u001b[0;32m      4\u001b[0m \u001b[1;32mfrom\u001b[0m \u001b[0mtf\u001b[0m\u001b[1;33m.\u001b[0m\u001b[0mkeras\u001b[0m\u001b[1;33m.\u001b[0m\u001b[0mmodels\u001b[0m \u001b[1;32mimport\u001b[0m \u001b[0mSequential\u001b[0m\u001b[1;33m\u001b[0m\u001b[0m\n",
      "\u001b[1;31mModuleNotFoundError\u001b[0m: No module named 'tf'"
     ]
    }
   ],
   "source": [
    "# import relevant model libraries\n",
    "\n",
    "from tf.keras.layers import Dense, Dropout, LSTM\n",
    "from tf.keras.models import Sequential\n"
   ]
  },
  {
   "cell_type": "markdown",
   "metadata": {
    "id": "GDpttboKIbgF"
   },
   "source": [
    "### Intialize the RNN"
   ]
  },
  {
   "cell_type": "code",
   "execution_count": null,
   "metadata": {
    "id": "sxto8mQ1IhT3"
   },
   "outputs": [],
   "source": [
    "model = Sequential()\n",
    "\n",
    "# Layer 1\n",
    "model.add(LSTM(units = 64, activation = 'relu', input_shape = (x_train.shape[1], x_train.shape[2]), return_sequences = True))\n",
    "\n",
    "# Layer 2\n",
    "model.add(LSTM(units = 64, activation = 'relu', return_sequences = False))\n",
    "model.add(Dropout(0.2))\n",
    "\n",
    "#Layer 3\n",
    "model.add(Dense(y_train.shape[1]))"
   ]
  },
  {
   "cell_type": "markdown",
   "metadata": {
    "id": "OsSvWkJ9LFNi"
   },
   "source": [
    "*Compile the model*"
   ]
  },
  {
   "cell_type": "code",
   "execution_count": null,
   "metadata": {
    "colab": {
     "base_uri": "https://localhost:8080/"
    },
    "id": "nuBLcMTZK4mp",
    "outputId": "367e7fcf-b63d-434c-9663-57fa1d01878e"
   },
   "outputs": [],
   "source": [
    "model.compile(optimizer = 'adam', loss = 'mse')\n",
    "model.summary()"
   ]
  },
  {
   "cell_type": "markdown",
   "metadata": {
    "id": "phNjJrUlMiZC"
   },
   "source": [
    " *Fit the model*"
   ]
  },
  {
   "cell_type": "code",
   "execution_count": 29,
   "metadata": {
    "id": "ph56wSiCRcBw"
   },
   "outputs": [
    {
     "ename": "ModuleNotFoundError",
     "evalue": "No module named 'tensorflow'",
     "output_type": "error",
     "traceback": [
      "\u001b[1;31m---------------------------------------------------------------------------\u001b[0m",
      "\u001b[1;31mModuleNotFoundError\u001b[0m                       Traceback (most recent call last)",
      "\u001b[1;32m<ipython-input-29-64156d691fe5>\u001b[0m in \u001b[0;36m<module>\u001b[1;34m()\u001b[0m\n\u001b[1;32m----> 1\u001b[1;33m \u001b[1;32mimport\u001b[0m \u001b[0mtensorflow\u001b[0m \u001b[1;32mas\u001b[0m \u001b[0mtf\u001b[0m\u001b[1;33m\u001b[0m\u001b[0m\n\u001b[0m",
      "\u001b[1;31mModuleNotFoundError\u001b[0m: No module named 'tensorflow'"
     ]
    }
   ],
   "source": [
    "import tensorflow as tf"
   ]
  },
  {
   "cell_type": "code",
   "execution_count": null,
   "metadata": {
    "colab": {
     "base_uri": "https://localhost:8080/"
    },
    "id": "BvYQWzgAMXyT",
    "outputId": "44f2a28a-6a51-4f5f-af61-bd8d876beea6"
   },
   "outputs": [],
   "source": [
    "callback = tf.keras.callbacks.EarlyStopping(monitor = 'loss', patience = 2)\n",
    "history = model.fit(x_train, y_train, epochs = 10, batch_size = 25, validation_split = 0.1, verbose = 2, callbacks = callback)"
   ]
  },
  {
   "cell_type": "code",
   "execution_count": null,
   "metadata": {
    "colab": {
     "base_uri": "https://localhost:8080/",
     "height": 286
    },
    "id": "tfXfAZJ4Oln8",
    "outputId": "029db910-4564-4ff1-c1e9-405850acb780"
   },
   "outputs": [],
   "source": [
    "#plot the training loss vs validation loss\n",
    "plt.plot(history.history['loss'], label = 'Training Loss')\n",
    "plt.plot(history.history['val_loss'], label = 'Validation Loss')\n",
    "plt.legend()"
   ]
  },
  {
   "cell_type": "code",
   "execution_count": null,
   "metadata": {
    "colab": {
     "base_uri": "https://localhost:8080/"
    },
    "id": "052MT07vLpjc",
    "outputId": "6fb68c35-3606-4b54-bc8a-d13ed1d6fdd1"
   },
   "outputs": [],
   "source": [
    "#extract dates from raw_data\n",
    "train_dates = pd.to_datetime(raw_data['Date'])\n",
    "train_dates.tail(15)"
   ]
  },
  {
   "cell_type": "code",
   "execution_count": null,
   "metadata": {
    "colab": {
     "base_uri": "https://localhost:8080/"
    },
    "id": "ZutoYBYxPwfS",
    "outputId": "e164fa26-4c3b-44d1-8bd9-0202b55e1ed5"
   },
   "outputs": [],
   "source": [
    "#prediction for the future 30 days\n",
    "n_past = 121\n",
    "n_prediction_days = 120 #predicting the past 15 days for training\n",
    "\n",
    "predict_period_dates = pd.date_range(list(train_dates)[-n_past], periods = n_prediction_days, freq = '1d').tolist()\n",
    "predict_period_dates"
   ]
  },
  {
   "cell_type": "code",
   "execution_count": null,
   "metadata": {
    "id": "QOqXaSdVMmOJ"
   },
   "outputs": [],
   "source": [
    "#PREDICT\n",
    "\n",
    "predict = model.predict(x_train[-n_prediction_days:])"
   ]
  },
  {
   "cell_type": "code",
   "execution_count": null,
   "metadata": {
    "colab": {
     "base_uri": "https://localhost:8080/"
    },
    "id": "2FDvJgbONUd8",
    "outputId": "8b6810eb-3a32-490e-891e-76c56e6df5d2"
   },
   "outputs": [],
   "source": [
    "predict.shape"
   ]
  },
  {
   "cell_type": "code",
   "execution_count": null,
   "metadata": {
    "id": "mXGP4tRbNa92"
   },
   "outputs": [],
   "source": [
    "# as the imputs we have are scaled in nature, we have to inverse them in order to mke sense from them.\n",
    "# when we did scaling, we scaled 5 variables, here also we neeed 5 variables. Instead we'll copy the 'predict' variable 5 times.\n",
    "# when storing the values we'll only save anyone column thus preventing ambiguity."
   ]
  },
  {
   "cell_type": "code",
   "execution_count": null,
   "metadata": {
    "id": "p6VKujxbOaui"
   },
   "outputs": [],
   "source": [
    "predict_copies = np.repeat(predict, df_for_model.shape[1], axis = 1)\n",
    "y_pred_future = scaler.inverse_transform(predict_copies)[:,0]"
   ]
  },
  {
   "cell_type": "code",
   "execution_count": null,
   "metadata": {
    "colab": {
     "base_uri": "https://localhost:8080/"
    },
    "id": "y8D3tvllPEUu",
    "outputId": "1dd321a6-cc26-4a79-a9b3-5452be56198c"
   },
   "outputs": [],
   "source": [
    "y_pred_future"
   ]
  },
  {
   "cell_type": "code",
   "execution_count": null,
   "metadata": {
    "id": "WKCbapkfPGqo"
   },
   "outputs": [],
   "source": [
    "#Convert time stamps into Dates\n",
    "predict_dates = []\n",
    "\n",
    "for i in predict_period_dates:\n",
    "  predict_dates.append(i.date())\n",
    "\n",
    "df_predict = pd.DataFrame({'Date': np.array(predict_dates), 'Open': y_pred_future})\n",
    "df_predict['Date'] = pd.to_datetime(df_predict['Date'])"
   ]
  },
  {
   "cell_type": "code",
   "execution_count": null,
   "metadata": {
    "colab": {
     "base_uri": "https://localhost:8080/"
    },
    "id": "mCwwVm_aRY3t",
    "outputId": "6fa904f0-be73-4c32-c791-02db8cd202f5"
   },
   "outputs": [],
   "source": [
    "original = raw_data[['Date', 'Open']]\n",
    "original['Date'] = pd.to_datetime(original['Date'])\n",
    "# for visiualization we'll look at graph from a early stage\n",
    "original = original.loc[original['Date'] >= '2018-5-1']"
   ]
  },
  {
   "cell_type": "code",
   "execution_count": null,
   "metadata": {
    "colab": {
     "base_uri": "https://localhost:8080/",
     "height": 613
    },
    "id": "q0tkeV5hSyhM",
    "outputId": "ef6667b0-ad22-48f7-92b4-d537cfe47c28"
   },
   "outputs": [],
   "source": [
    "plt.figure(figsize=(15,8))\n",
    "sns.lineplot(original['Date'], original['Open'])\n",
    "sns.lineplot(df_predict['Date'], df_predict['Open'])"
   ]
  },
  {
   "cell_type": "code",
   "execution_count": null,
   "metadata": {
    "colab": {
     "base_uri": "https://localhost:8080/",
     "height": 518
    },
    "id": "6JmxyByVTPfT",
    "outputId": "a1b8b898-66bd-4bf0-a2b6-53b27e61af1c"
   },
   "outputs": [],
   "source": [
    "plt.figure(figsize=(15,8))\n",
    "plt.plot(original['Date'], original['Open'], color = 'r', label = 'Original Price')\n",
    "plt.plot(df_predict['Date'], df_predict['Open'], color = 'g', label = 'Predicted Price')\n",
    "plt.title('Axis Bank Stock Prediction')\n",
    "plt.xlabel('Time')\n",
    "plt.ylabel('Stock Price')\n",
    "plt.legend()\n",
    "plt.show()"
   ]
  },
  {
   "cell_type": "code",
   "execution_count": null,
   "metadata": {
    "colab": {
     "base_uri": "https://localhost:8080/"
    },
    "id": "H-d4kG6nls1x",
    "outputId": "f3113c17-d6c7-4cee-f71b-653f68b75ff9"
   },
   "outputs": [],
   "source": [
    "model.save('Rnn_model')"
   ]
  },
  {
   "cell_type": "code",
   "execution_count": null,
   "metadata": {
    "id": "wURu3cUvmo93"
   },
   "outputs": [],
   "source": []
  }
 ],
 "metadata": {
  "colab": {
   "collapsed_sections": [],
   "name": "LSTM model.ipynb",
   "provenance": []
  },
  "kernelspec": {
   "display_name": "Python 3",
   "language": "python",
   "name": "python3"
  },
  "language_info": {
   "codemirror_mode": {
    "name": "ipython",
    "version": 3
   },
   "file_extension": ".py",
   "mimetype": "text/x-python",
   "name": "python",
   "nbconvert_exporter": "python",
   "pygments_lexer": "ipython3",
   "version": "3.7.0"
  }
 },
 "nbformat": 4,
 "nbformat_minor": 1
}
